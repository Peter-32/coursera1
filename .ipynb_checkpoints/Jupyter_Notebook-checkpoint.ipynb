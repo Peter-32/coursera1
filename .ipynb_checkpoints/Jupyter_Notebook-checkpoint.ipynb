{
 "cells": [
  {
   "cell_type": "markdown",
   "id": "0bd8e362-7dd4-47c0-90b4-1669f29cfadc",
   "metadata": {},
   "source": [
    "<center>\n",
    "        <img src=\"https://cf-courses-data.s3.us.cloud-object-storage.appdomain.cloud/IBMDeveloperSkillsNetwork-DS0105EN-SkillsNetwork/labs/Module2/images/SN_web_lightmode.png\" width=\"300\" alt=\"cognitiveclass.ailogo\">\n",
    "</center>"
   ]
  },
  {
   "cell_type": "markdown",
   "id": "804ad6b2-855c-440e-8a4d-6e041e19c165",
   "metadata": {},
   "source": [
    "#### Add your code below following the instructions given in the course"
   ]
  },
  {
   "cell_type": "markdown",
   "id": "452883f7-6511-41fb-b86a-32e142274bc9",
   "metadata": {},
   "source": [
    "### Jupyter_Notebook"
   ]
  },
  {
   "cell_type": "markdown",
   "id": "dfb3fef6-5253-48a9-938a-be1356be833b",
   "metadata": {},
   "source": [
    "### Introduction\n",
    "\n",
    "This is my submission for the open source tools for data science coursera class."
   ]
  },
  {
   "cell_type": "markdown",
   "id": "fcabc9ee-8153-41d2-bee0-821e9bb3b7d8",
   "metadata": {},
   "source": [
    "### Data science languages\n",
    "- R\n",
    "- Python\n",
    "- SQL\n"
   ]
  },
  {
   "cell_type": "markdown",
   "id": "f85d4a32-4193-4d0a-bdfc-e349a816e302",
   "metadata": {},
   "source": [
    "### Data science libraries\n",
    "- Pandas\n",
    "- Scikit-learn\n",
    "- Numpy\n",
    "- PySpark\n"
   ]
  },
  {
   "cell_type": "markdown",
   "id": "56196981-f900-45ea-865f-c67b35398846",
   "metadata": {},
   "source": [
    "### Data science tools\n",
    "\n",
    "\n",
    "| Tool               | \n",
    "| ------------------ |\n",
    "| Jupyter notebook   |\n",
    "| Jupyter lab        |\n",
    "| RStudio            |\n",
    "| Visual Studio Code |\n"
   ]
  },
  {
   "cell_type": "markdown",
   "id": "b0b98972-f214-42ab-bdad-c16a0812dd95",
   "metadata": {},
   "source": [
    "### Example arithmetic expressions\n",
    "\n",
    "z = x + y + xy\n",
    "\n",
    "### Matrix\n",
    "\n",
    "X = \\begin{bmatrix}\n",
    "2 & 5\\\\\n",
    "3 & 6\\\\\n",
    "4 & 7\n",
    "\\end{bmatrix} X = \\begin{bmatrix}\n",
    "x_{1} & x_{2}\\\\\n",
    "x_{1} & x_{2}\\\\\n",
    "x_{1} & x_{2}\n",
    "\\end{bmatrix}"
   ]
  },
  {
   "cell_type": "code",
   "execution_count": 3,
   "id": "fd439c66-bb79-44c5-b57d-fdde22e54ff6",
   "metadata": {},
   "outputs": [
    {
     "name": "stdout",
     "output_type": "stream",
     "text": [
      "25 10\n"
     ]
    }
   ],
   "source": [
    "print(5*5, 5+5)"
   ]
  },
  {
   "cell_type": "code",
   "execution_count": 4,
   "id": "c1dfb257-c591-48ee-a78a-8cc026c10dcc",
   "metadata": {},
   "outputs": [
    {
     "data": {
      "text/plain": [
       "(1.0, 1.5, 2.0)"
      ]
     },
     "execution_count": 4,
     "metadata": {},
     "output_type": "execute_result"
    }
   ],
   "source": [
    "def convert_minutes_to_hours(x):\n",
    "    return x/60\n",
    "convert_minutes_to_hours(60), convert_minutes_to_hours(90), convert_minutes_to_hours(120)"
   ]
  },
  {
   "cell_type": "markdown",
   "id": "487e15e3-e953-42c2-b0c5-d250918b1387",
   "metadata": {},
   "source": [
    "### Objectives\n",
    "- Learn about Python\n",
    "- Learn about data science\n",
    "- Complete the courses\n"
   ]
  },
  {
   "cell_type": "markdown",
   "id": "ef20ea3e-e6ff-44ed-8a8c-a76d45d81bb9",
   "metadata": {},
   "source": [
    "### Author\n",
    "Peter Myers"
   ]
  },
  {
   "cell_type": "code",
   "execution_count": null,
   "id": "d014359c-f9ad-4464-a4b9-f3a24b1971e8",
   "metadata": {},
   "outputs": [],
   "source": []
  }
 ],
 "metadata": {
  "kernelspec": {
   "display_name": "Python 3 (ipykernel)",
   "language": "python",
   "name": "python3"
  },
  "language_info": {
   "codemirror_mode": {
    "name": "ipython",
    "version": 3
   },
   "file_extension": ".py",
   "mimetype": "text/x-python",
   "name": "python",
   "nbconvert_exporter": "python",
   "pygments_lexer": "ipython3",
   "version": "3.10.11"
  }
 },
 "nbformat": 4,
 "nbformat_minor": 5
}
